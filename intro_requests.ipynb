{
 "cells": [
  {
   "cell_type": "code",
   "execution_count": 243,
   "id": "48853351",
   "metadata": {},
   "outputs": [
    {
     "name": "stdout",
     "output_type": "stream",
     "text": [
      "200\n"
     ]
    }
   ],
   "source": [
    "import requests\n",
    "from bs4 import BeautifulSoup\n",
    "\n",
    "def get_html(url):\n",
    "     return requests.get(url)\n",
    "    \n",
    "   \n",
    "def get_data(html):\n",
    "    soup = BeautifulSoup(html, 'lxml')\n",
    "#     return dir(soup)\n",
    "#     return help(soup)\n",
    "    get_text = soup.find(attrs={\"content\": \"SENATOROV\"}).get('content')\n",
    "    return get_text \n",
    "\n",
    "def main():\n",
    "    url= \"https://youtube.com/SENATOROV\"\n",
    "    print(get_data(get_html(url)))\n",
    "#     print(type(get_html(url)))\n",
    "#     print(dir(get_html(url)))\n",
    "#     status = get_html(url)\n",
    "#     print(status.status_code)\n",
    "    \n",
    "    \n",
    "\n",
    "if __name__ == '__main__':\n",
    "    main()"
   ]
  },
  {
   "cell_type": "code",
   "execution_count": 266,
   "id": "23022bdb",
   "metadata": {},
   "outputs": [
    {
     "name": "stdout",
     "output_type": "stream",
     "text": [
      "SENATOROV\n"
     ]
    }
   ],
   "source": [
    "import requests\n",
    "from bs4 import BeautifulSoup\n",
    "\n",
    "def get_html(url):\n",
    "    return requests.get(url)\n",
    "\n",
    "def get_data(html):\n",
    "    soup = BeautifulSoup(html, 'lxml')\n",
    "    get_text = soup.find(attrs={\"content\": \"SENATOROV\"})\n",
    "    print(get_text.get('content'))\n",
    "get_data(requests.get(\"https://youtube.com/SENATOROV\").text) \n",
    "\n",
    "# def main():\n",
    "#     url = \"https://youtube.com/SENATOROV\"\n",
    "#     status = get_html(url)\n",
    "    \n",
    "# #     data = get_data(status.content)\n",
    "#     print(status)\n",
    "\n",
    "# if __name__ == '__main__':\n",
    "#     main()\n"
   ]
  },
  {
   "cell_type": "code",
   "execution_count": null,
   "id": "165dc8a3",
   "metadata": {},
   "outputs": [],
   "source": []
  },
  {
   "cell_type": "code",
   "execution_count": 296,
   "id": "8aa8bc03",
   "metadata": {},
   "outputs": [
    {
     "name": "stdout",
     "output_type": "stream",
     "text": [
      "SENATOROV\n"
     ]
    }
   ],
   "source": [
    "import requests\n",
    "from bs4 import BeautifulSoup\n",
    "\n",
    "class WebScraper:\n",
    "    def __init__(self, url):\n",
    "        self.url = url\n",
    "        \n",
    "    def get_html(self):\n",
    "        return requests.get(self.url).text\n",
    "\n",
    "    def get_data(self):\n",
    "        html = self.get_html()\n",
    "        soup = BeautifulSoup(html, 'lxml')\n",
    "        get_text = soup.find(attrs={\"content\": \"SENATOROV\"}).get('content')\n",
    "        return get_text\n",
    "\n",
    "    def main(self):\n",
    "        data = self.get_data()\n",
    "        print(data)\n",
    "\n",
    "if __name__ == '__main__':\n",
    "    scraper = WebScraper(\"https://youtube.com/SENATOROV\")\n",
    "    scraper.main()"
   ]
  },
  {
   "cell_type": "code",
   "execution_count": 273,
   "id": "802a958a",
   "metadata": {},
   "outputs": [
    {
     "name": "stdout",
     "output_type": "stream",
     "text": [
      "SENATOROV\n"
     ]
    }
   ],
   "source": [
    "import requesturs\n",
    "from bs4 import BeautifulSoup\n",
    "\n",
    "class WebScraper:\n",
    "    def __init__(self, url):\n",
    "        self.url = url\n",
    "\n",
    "    def get_html(self):\n",
    "        return requests.get(self.url).text\n",
    "\n",
    "    def get_data(self):\n",
    "        html = self.get_html()\n",
    "        soup = BeautifulSoup(html, 'lxml')\n",
    "        get_text = soup.find(attrs={\"content\": \"SENATOROV\"}).get('content')\n",
    "        return get_text\n",
    "\n",
    "    def main(self):\n",
    "        data = self.get_data()\n",
    "        print(data)\n",
    "\n",
    "if __name__ == '__main__':\n",
    "    scraper = WebScraper(\"https://youtube.com/SENATOROV\")\n",
    "    scraper.main()"
   ]
  }
 ],
 "metadata": {
  "kernelspec": {
   "display_name": "Python 3 (ipykernel)",
   "language": "python",
   "name": "python3"
  },
  "language_info": {
   "codemirror_mode": {
    "name": "ipython",
    "version": 3
   },
   "file_extension": ".py",
   "mimetype": "text/x-python",
   "name": "python",
   "nbconvert_exporter": "python",
   "pygments_lexer": "ipython3",
   "version": "3.9.0"
  }
 },
 "nbformat": 4,
 "nbformat_minor": 5
}
