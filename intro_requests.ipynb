{
 "cells": [
  {
   "cell_type": "code",
   "execution_count": 2,
   "id": "2c11ff37",
   "metadata": {},
   "outputs": [],
   "source": [
    "import requests\n",
    "from bs4 import BeautifulSoup\n",
    "\n",
    "def get_html(url):# эта функция принимает ссылку и возвращает текст \n",
    "     return requests.get(url)\n",
    "    \n",
    "   \n",
    "def get_data(html):\n",
    "    soup = BeautifulSoup(html, 'lxml')\n",
    "#     return dir(soup)\n",
    "#     return help(soup)\n",
    "    get_text = soup.find(attrs={\"content\": \"SENATOROV\"}).get('content')\n",
    "    return get_text \n",
    "\n",
    "print('hi')\n",
    "\n",
    "def main():\n",
    "    url= \"https://youtube.com/SENATOROV\"\n",
    "    print(get_data(get_html(url)))\n",
    "#     print(type(get_html(url)))\n",
    "#     print(dir(get_html(url)))\n",
    "#     status = get_html(url)\n",
    "#     print(status.status_code)\n",
    "    \n",
    "    \n",
    "\n",
    "if __name__ == '__main__':\n",
    "    main()"
   ]
  },
  {
   "cell_type": "code",
   "execution_count": 266,
   "id": "952c9812",
   "metadata": {},
   "outputs": [
    {
     "name": "stdout",
     "output_type": "stream",
     "text": [
      "SENATOROV\n"
     ]
    }
   ],
   "source": [
    "import requests\n",
    "from bs4 import BeautifulSoup\n",
    "\n",
    "def get_html(url):\n",
    "    return requests.get(url)\n",
    "\n",
    "def get_data(html):\n",
    "    soup = BeautifulSoup(html, 'lxml')\n",
    "    get_text = soup.find(attrs={\"content\": \"SENATOROV\"})\n",
    "    print(get_text.get('content'))\n",
    "get_data(requests.get(\"https://youtube.com/SENATOROV\").text) \n",
    "\n",
    "# def main():\n",
    "#     url = \"https://youtube.com/SENATOROV\"\n",
    "#     status = get_html(url)\n",
    "    \n",
    "# #     data = get_data(status.content)\n",
    "#     print(status)\n",
    "\n",
    "# if __name__ == '__main__':\n",
    "#     main()\n"
   ]
  },
  {
   "cell_type": "code",
   "execution_count": null,
   "id": "b5d111b9",
   "metadata": {},
   "outputs": [],
   "source": []
  },
  {
   "cell_type": "code",
   "execution_count": 296,
   "id": "8379f7c4",
   "metadata": {},
   "outputs": [
    {
     "name": "stdout",
     "output_type": "stream",
     "text": [
      "SENATOROV\n"
     ]
    }
   ],
   "source": [
    "import requests\n",
    "from bs4 import BeautifulSoup\n",
    "\n",
    "class WebScraper:\n",
    "    def __init__(self, url):\n",
    "        self.url = url\n",
    "        \n",
    "    def get_html(self):\n",
    "        return requests.get(self.url).text\n",
    "\n",
    "    def get_data(self):\n",
    "        html = self.get_html()\n",
    "        soup = BeautifulSoup(html, 'lxml')\n",
    "        get_text = soup.find(attrs={\"content\": \"SENATOROV\"}).get('content')\n",
    "        return get_text\n",
    "\n",
    "    def main(self):\n",
    "        data = self.get_data()\n",
    "        print(data)\n",
    "\n",
    "if __name__ == '__main__':\n",
    "    scraper = WebScraper(\"https://youtube.com/SENATOROV\")\n",
    "    scraper.main()"
   ]
  },
  {
   "cell_type": "code",
   "execution_count": 301,
   "id": "3dbd477e",
   "metadata": {},
   "outputs": [
    {
     "name": "stdout",
     "output_type": "stream",
     "text": [
      "SENATOROV\n"
     ]
    }
   ],
   "source": [
    "import requests\n",
    "from bs4 import BeautifulSoup as BS\n",
    "\n",
    "class WebScraper:\n",
    "    def __init__(self, url):\n",
    "        self.url = url\n",
    "\n",
    "    def get_html(self):\n",
    "        return requests.get(self.url).text\n",
    "\n",
    "    def get_data(self):\n",
    "        html = self.get_html()\n",
    "        soup = BeautifulSoup(html, 'lxml')\n",
    "        get_text = soup.find(attrs={\"content\": \"SENATOROV\"}).get('content')\n",
    "        return get_text\n",
    "\n",
    "    def main(self):\n",
    "        data = self.get_data()\n",
    "        print(data)\n",
    "\n",
    "if __name__ == '__main__':\n",
    "    scraper = WebScraper(\"https://youtube.com/SENATOROV\")\n",
    "    scraper.main()"
   ]
  },
  {
   "cell_type": "code",
   "execution_count": 490,
   "id": "57c8bdd9",
   "metadata": {
    "scrolled": false
   },
   "outputs": [
    {
     "name": "stdout",
     "output_type": "stream",
     "text": [
      "{'name': 'Classic Editor', 'url': 'https://wordpress.org/plugins/classic-editor/', 'reviews': '1120'}\n"
     ]
    }
   ],
   "source": [
    "import requests\n",
    "from bs4 import BeautifulSoup as BS\n",
    "\n",
    "def get_html(url: str) -> str:\n",
    "    return requests.get(url).text\n",
    "\n",
    "def clean_data(string: str):\n",
    "    return string.replace(\",\", \"\").replace(\"total ratings\", \"\").strip()\n",
    "\n",
    "def write_csv(data):\n",
    "    pass\n",
    "\n",
    "def get_data(html: str) -> None:\n",
    "    soup = BS(html, 'lxml')\n",
    "    get_plug = soup.find_all(class_='plugin-section')[3]\n",
    "    plugins = get_plug.find_all('article') \n",
    "    \n",
    "    for plugin in plugins:\n",
    "        name = plugin.find('h3').text\n",
    "        url = plugin.find('h3').find('a').get('href')\n",
    "        rating = plugin.find('span', class_='rating-count').find('a').text\n",
    "        clean_rating = clean_data(rating)\n",
    "        data = {'name': name, \n",
    "                'url': url,\n",
    "                'reviews': clean_rating}\n",
    "    return data\n",
    "        \n",
    "def run() -> None:\n",
    "    url = \"https://wordpress.org/plugins/\"\n",
    "    print(get_data(get_html(url)))\n",
    "\n",
    "if __name__ == '__main__':\n",
    "    run()"
   ]
  }
 ],
 "metadata": {
  "kernelspec": {
   "display_name": "Python 3 (ipykernel)",
   "language": "python",
   "name": "python3"
  },
  "language_info": {
   "codemirror_mode": {
    "name": "ipython",
    "version": 3
   },
   "file_extension": ".py",
   "mimetype": "text/x-python",
   "name": "python",
   "nbconvert_exporter": "python",
   "pygments_lexer": "ipython3",
   "version": "3.11.1"
  }
 },
 "nbformat": 4,
 "nbformat_minor": 5
}
